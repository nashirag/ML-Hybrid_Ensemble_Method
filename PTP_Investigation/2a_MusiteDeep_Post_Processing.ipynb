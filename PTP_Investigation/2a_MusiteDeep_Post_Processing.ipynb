{
 "cells": [
  {
   "cell_type": "code",
   "execution_count": 1,
   "id": "4eb8aa9b",
   "metadata": {},
   "outputs": [],
   "source": [
    "import pandas as pd\n",
    "import numpy as np"
   ]
  },
  {
   "cell_type": "code",
   "execution_count": 2,
   "id": "f6e192ca",
   "metadata": {},
   "outputs": [],
   "source": [
    "# Import .csv of peptides\n",
    "peps = pd.read_csv('./features/palma_2017_feature_details.csv')"
   ]
  },
  {
   "cell_type": "code",
   "execution_count": 7,
   "id": "31256e50",
   "metadata": {},
   "outputs": [],
   "source": [
    "# Import MuSiteDeep Results\n",
    "msd = pd.read_csv('./MuSiteDeep_Full_Length_Results_Palma_2017.txt', sep='\\t')"
   ]
  },
  {
   "cell_type": "code",
   "execution_count": 12,
   "id": "130ffa22",
   "metadata": {},
   "outputs": [],
   "source": [
    "# Format MuSiteDeep Results\n",
    "temp = msd['ID'].str.split('|', expand=True)\n",
    "msd['Gene_ID'] = temp[0]\n",
    "msd['Uniprot_ID'] = temp[1]"
   ]
  },
  {
   "cell_type": "code",
   "execution_count": 43,
   "id": "a94a7111",
   "metadata": {},
   "outputs": [],
   "source": [
    "# Some peptides did not exist as part of proteins -- did not generate MSD scores for these\n",
    "#  we'll need to pull them out\n",
    "no_fullseq = peps[pd.to_numeric(peps['SITE_LOC'], errors='coerce').notnull() == False]\n",
    "with_fullseq = peps.drop(no_fullseq.index)"
   ]
  },
  {
   "cell_type": "code",
   "execution_count": 47,
   "id": "67dd26f0",
   "metadata": {},
   "outputs": [],
   "source": [
    "# Now we can fix the SITE_LOC column -- currently it lists where the peptide starts\n",
    "#  within the full sequence, but we need to correspond it to the Y residue\n",
    "#  in order to pull the correct score out of the MSD data\n",
    "with_fullseq['SITE_LOC'] = with_fullseq['SITE_LOC'].astype(int) + 7"
   ]
  },
  {
   "cell_type": "code",
   "execution_count": 49,
   "id": "a44a5570",
   "metadata": {},
   "outputs": [],
   "source": [
    "with_fullseq['uid_pos'] = with_fullseq['ACC_ID'] + '_' + with_fullseq['SITE_LOC'].astype(str)"
   ]
  },
  {
   "cell_type": "code",
   "execution_count": 67,
   "id": "5145ef11",
   "metadata": {
    "collapsed": true
   },
   "outputs": [
    {
     "name": "stderr",
     "output_type": "stream",
     "text": [
      "/var/folders/p8/7dg76m153tbg1p6ln0gknfvw0000gn/T/ipykernel_8853/3769713308.py:2: SettingWithCopyWarning: \n",
      "A value is trying to be set on a copy of a slice from a DataFrame.\n",
      "Try using .loc[row_indexer,col_indexer] = value instead\n",
      "\n",
      "See the caveats in the documentation: https://pandas.pydata.org/pandas-docs/stable/user_guide/indexing.html#returning-a-view-versus-a-copy\n",
      "  msd['Position'] = msd['Position'].astype(int)\n"
     ]
    }
   ],
   "source": [
    "msd = msd[pd.to_numeric(msd['Position'], errors='coerce').notnull()]\n",
    "msd['Position'] = msd['Position'].astype(int)"
   ]
  },
  {
   "cell_type": "code",
   "execution_count": 69,
   "id": "f3080d78",
   "metadata": {
    "collapsed": true
   },
   "outputs": [
    {
     "name": "stderr",
     "output_type": "stream",
     "text": [
      "/var/folders/p8/7dg76m153tbg1p6ln0gknfvw0000gn/T/ipykernel_8853/2254246030.py:1: SettingWithCopyWarning: \n",
      "A value is trying to be set on a copy of a slice from a DataFrame.\n",
      "Try using .loc[row_indexer,col_indexer] = value instead\n",
      "\n",
      "See the caveats in the documentation: https://pandas.pydata.org/pandas-docs/stable/user_guide/indexing.html#returning-a-view-versus-a-copy\n",
      "  msd['uid_pos'] = msd['Uniprot_ID'] + '_' + msd['Position'].astype(str)\n"
     ]
    }
   ],
   "source": [
    "msd['uid_pos'] = msd['Uniprot_ID'] + '_' + msd['Position'].astype(str)"
   ]
  },
  {
   "cell_type": "code",
   "execution_count": 95,
   "id": "9e9f78e2",
   "metadata": {},
   "outputs": [],
   "source": [
    "full = pd.merge(with_fullseq, msd, on='uid_pos', how='left', indicator=True)"
   ]
  },
  {
   "cell_type": "code",
   "execution_count": 96,
   "id": "ca3f4d4e",
   "metadata": {},
   "outputs": [
    {
     "data": {
      "text/html": [
       "<div>\n",
       "<style scoped>\n",
       "    .dataframe tbody tr th:only-of-type {\n",
       "        vertical-align: middle;\n",
       "    }\n",
       "\n",
       "    .dataframe tbody tr th {\n",
       "        vertical-align: top;\n",
       "    }\n",
       "\n",
       "    .dataframe thead th {\n",
       "        text-align: right;\n",
       "    }\n",
       "</style>\n",
       "<table border=\"1\" class=\"dataframe\">\n",
       "  <thead>\n",
       "    <tr style=\"text-align: right;\">\n",
       "      <th></th>\n",
       "      <th>uid_pos</th>\n",
       "      <th>Spot Index</th>\n",
       "      <th>Spot Flag</th>\n",
       "      <th>Peptide</th>\n",
       "      <th>Interactor Protein</th>\n",
       "      <th>Measure Flag</th>\n",
       "      <th>PTP_HD-PTP_11-07-2008.seam</th>\n",
       "      <th>PTP_LAR_12-10-2007.seam</th>\n",
       "      <th>PTP_LyP_12-10-2007.seam</th>\n",
       "      <th>PTP_MEG-1_12-10-2007.seam</th>\n",
       "      <th>...</th>\n",
       "      <th>SITE_LOC</th>\n",
       "      <th>Fullseq_Length</th>\n",
       "      <th>ID</th>\n",
       "      <th>Position</th>\n",
       "      <th>Residue</th>\n",
       "      <th>PTMscores</th>\n",
       "      <th>Cutoff=0.5</th>\n",
       "      <th>Gene_ID</th>\n",
       "      <th>Uniprot_ID</th>\n",
       "      <th>_merge</th>\n",
       "    </tr>\n",
       "  </thead>\n",
       "  <tbody>\n",
       "    <tr>\n",
       "      <th>826</th>\n",
       "      <td>Q9BTX7_70</td>\n",
       "      <td>2383</td>\n",
       "      <td>GOOD</td>\n",
       "      <td>DMVRKEYPNLSTS</td>\n",
       "      <td>Q9BTX7 (C20orf121) --&gt; 64-75</td>\n",
       "      <td>GOOD</td>\n",
       "      <td>-0.0467</td>\n",
       "      <td>-0.201</td>\n",
       "      <td>-0.727</td>\n",
       "      <td>-0.474</td>\n",
       "      <td>...</td>\n",
       "      <td>70</td>\n",
       "      <td>342.0</td>\n",
       "      <td>NaN</td>\n",
       "      <td>NaN</td>\n",
       "      <td>NaN</td>\n",
       "      <td>NaN</td>\n",
       "      <td>NaN</td>\n",
       "      <td>NaN</td>\n",
       "      <td>NaN</td>\n",
       "      <td>left_only</td>\n",
       "    </tr>\n",
       "    <tr>\n",
       "      <th>1216</th>\n",
       "      <td>Q53H88_7</td>\n",
       "      <td>4702</td>\n",
       "      <td>GOOD</td>\n",
       "      <td>AMADPKYADLPGI</td>\n",
       "      <td>Q53H88 --&gt; 1-12</td>\n",
       "      <td>GOOD</td>\n",
       "      <td>1.3700</td>\n",
       "      <td>-1.180</td>\n",
       "      <td>-0.277</td>\n",
       "      <td>-0.414</td>\n",
       "      <td>...</td>\n",
       "      <td>7</td>\n",
       "      <td>406.0</td>\n",
       "      <td>NaN</td>\n",
       "      <td>NaN</td>\n",
       "      <td>NaN</td>\n",
       "      <td>NaN</td>\n",
       "      <td>NaN</td>\n",
       "      <td>NaN</td>\n",
       "      <td>NaN</td>\n",
       "      <td>left_only</td>\n",
       "    </tr>\n",
       "    <tr>\n",
       "      <th>2666</th>\n",
       "      <td>P31268_7</td>\n",
       "      <td>3585</td>\n",
       "      <td>GOOD</td>\n",
       "      <td>AMSSSYYVNALFS</td>\n",
       "      <td>P31268 (HOXA7) --&gt; 1-12</td>\n",
       "      <td>GOOD</td>\n",
       "      <td>1.3400</td>\n",
       "      <td>0.650</td>\n",
       "      <td>0.696</td>\n",
       "      <td>0.380</td>\n",
       "      <td>...</td>\n",
       "      <td>7</td>\n",
       "      <td>230.0</td>\n",
       "      <td>NaN</td>\n",
       "      <td>NaN</td>\n",
       "      <td>NaN</td>\n",
       "      <td>NaN</td>\n",
       "      <td>NaN</td>\n",
       "      <td>NaN</td>\n",
       "      <td>NaN</td>\n",
       "      <td>left_only</td>\n",
       "    </tr>\n",
       "  </tbody>\n",
       "</table>\n",
       "<p>3 rows × 35 columns</p>\n",
       "</div>"
      ],
      "text/plain": [
       "        uid_pos  Spot Index Spot Flag        Peptide  \\\n",
       "826   Q9BTX7_70        2383      GOOD  DMVRKEYPNLSTS   \n",
       "1216   Q53H88_7        4702      GOOD  AMADPKYADLPGI   \n",
       "2666   P31268_7        3585      GOOD  AMSSSYYVNALFS   \n",
       "\n",
       "                Interactor Protein Measure Flag  PTP_HD-PTP_11-07-2008.seam  \\\n",
       "826   Q9BTX7 (C20orf121) --> 64-75         GOOD                     -0.0467   \n",
       "1216               Q53H88 --> 1-12         GOOD                      1.3700   \n",
       "2666       P31268 (HOXA7) --> 1-12         GOOD                      1.3400   \n",
       "\n",
       "      PTP_LAR_12-10-2007.seam  PTP_LyP_12-10-2007.seam  \\\n",
       "826                    -0.201                   -0.727   \n",
       "1216                   -1.180                   -0.277   \n",
       "2666                    0.650                    0.696   \n",
       "\n",
       "      PTP_MEG-1_12-10-2007.seam  ...  SITE_LOC  Fullseq_Length   ID  Position  \\\n",
       "826                      -0.474  ...        70           342.0  NaN       NaN   \n",
       "1216                     -0.414  ...         7           406.0  NaN       NaN   \n",
       "2666                      0.380  ...         7           230.0  NaN       NaN   \n",
       "\n",
       "      Residue  PTMscores  Cutoff=0.5  Gene_ID  Uniprot_ID     _merge  \n",
       "826       NaN        NaN         NaN      NaN         NaN  left_only  \n",
       "1216      NaN        NaN         NaN      NaN         NaN  left_only  \n",
       "2666      NaN        NaN         NaN      NaN         NaN  left_only  \n",
       "\n",
       "[3 rows x 35 columns]"
      ]
     },
     "execution_count": 96,
     "metadata": {},
     "output_type": "execute_result"
    }
   ],
   "source": [
    "# 3 didn't merge successfully -- due to peptide length padding done in the previous notebook\n",
    "incomplete = full[full['_merge'] != 'both']\n",
    "full[full['_merge'] != 'both']"
   ]
  },
  {
   "cell_type": "code",
   "execution_count": 97,
   "id": "c634a2dc",
   "metadata": {},
   "outputs": [],
   "source": [
    "full = full.drop(incomplete.index)"
   ]
  },
  {
   "cell_type": "code",
   "execution_count": 111,
   "id": "4072425c",
   "metadata": {},
   "outputs": [],
   "source": [
    "incomplete = incomplete.drop(columns=msd.columns.drop('uid_pos'))\n",
    "incomplete = incomplete.drop(columns=['_merge'])"
   ]
  },
  {
   "cell_type": "code",
   "execution_count": 118,
   "id": "f0f0e886",
   "metadata": {},
   "outputs": [],
   "source": [
    "incomplete['SITE_LOC'] = incomplete['SITE_LOC'] - 1\n",
    "incomplete['uid_pos'] = incomplete['ACC_ID'] + '_' + incomplete['SITE_LOC'].astype(str)"
   ]
  },
  {
   "cell_type": "code",
   "execution_count": 213,
   "id": "fe20c151",
   "metadata": {},
   "outputs": [],
   "source": [
    "full = pd.concat([full, pd.merge(incomplete, msd, on='uid_pos', how='left', indicator=True)]).set_index('uid_pos', drop=True)"
   ]
  },
  {
   "cell_type": "code",
   "execution_count": 214,
   "id": "6f5a7996",
   "metadata": {},
   "outputs": [],
   "source": [
    "no_fullseq.to_csv('./missing_fullseqs_from_uniprot.csv')"
   ]
  },
  {
   "cell_type": "code",
   "execution_count": 215,
   "id": "8fb8abdd",
   "metadata": {},
   "outputs": [
    {
     "name": "stdout",
     "output_type": "stream",
     "text": [
      "11.629192775525249 % of our data didn't have an active Uniprot Listing\n"
     ]
    }
   ],
   "source": [
    "print(len(no_fullseq)/len(with_msd)*100, \"% of our data didn't have an active Uniprot Listing\")"
   ]
  },
  {
   "cell_type": "code",
   "execution_count": 216,
   "id": "ebdf4dce",
   "metadata": {},
   "outputs": [],
   "source": [
    "# Every little bit of data counts, especially when it's 10% of our dataset. So we'll\n",
    "#  arrange to get MSD scores for this data. A portion of it has Uniprot IDs that\n",
    "#  represent protein sequences that have been adjusted/deleted -- will need to manually\n",
    "#  correct for those. The remaining ones are peptides which can be run through MSD\n",
    "#  on their own."
   ]
  },
  {
   "cell_type": "code",
   "execution_count": 217,
   "id": "5dc81cdb",
   "metadata": {},
   "outputs": [],
   "source": [
    "# First pull the peptides for their MSD run\n",
    "solo_peps = no_fullseq[no_fullseq['Interactor Protein'].isna()]"
   ]
  },
  {
   "cell_type": "code",
   "execution_count": 218,
   "id": "52b446ff",
   "metadata": {},
   "outputs": [],
   "source": [
    "# Format for MSD run\n",
    "f = open('./missing_fullseq_MSD_run/missing_seqs_msd_run.fasta', 'w')\n",
    "\n",
    "for h,r in solo_peps.iterrows():\n",
    "    f.write('>' + r['uid_pos'] + '|' + str(r['Spot Index']) + '\\n')\n",
    "    f.write(str(r['Peptide']) + '\\n')\n",
    "f.close()"
   ]
  },
  {
   "cell_type": "code",
   "execution_count": 219,
   "id": "523dbcbc",
   "metadata": {},
   "outputs": [],
   "source": [
    "# Now let's handle the remaining sequences that weren't found within the Uniprot DB\n",
    "uid_not_found = no_fullseq[no_fullseq['Interactor Protein'].isna() == False]"
   ]
  },
  {
   "cell_type": "code",
   "execution_count": 220,
   "id": "0127772c",
   "metadata": {},
   "outputs": [
    {
     "data": {
      "text/plain": [
       "14             Q15811\n",
       "17      IPI00455894.2\n",
       "24             Q16827\n",
       "72             O43240\n",
       "156            Q15154\n",
       "            ...      \n",
       "5955           Q8WXU2\n",
       "5982    IPI00645382.1\n",
       "5983           Q9P1Z9\n",
       "6000           Q8IZF2\n",
       "6042         Q07955-3\n",
       "Name: ACC_ID, Length: 257, dtype: object"
      ]
     },
     "execution_count": 220,
     "metadata": {},
     "output_type": "execute_result"
    }
   ],
   "source": [
    "uid_not_found['ACC_ID']"
   ]
  },
  {
   "cell_type": "code",
   "execution_count": 221,
   "id": "a5b2cf27",
   "metadata": {},
   "outputs": [],
   "source": [
    "# The IDs similar to \"IPI00455894.2\" aren't recognisable protein IDs - take these\n",
    "#  as peptides too\n",
    "ipi_peptides = uid_not_found[uid_not_found['ACC_ID'].str.contains('IPI')]\n",
    "uid_not_found = uid_not_found.drop(ipi_peptides.index)"
   ]
  },
  {
   "cell_type": "code",
   "execution_count": 222,
   "id": "90f18982",
   "metadata": {},
   "outputs": [],
   "source": [
    "# Format for MSD run\n",
    "f = open('./missing_fullseq_MSD_run/missing_seqs_msd_run.fasta', 'a')\n",
    "\n",
    "for h,r in ipi_peptides.iterrows():\n",
    "    f.write('>' + r['uid_pos'] + '|' + str(r['Spot Index']) + '\\n')\n",
    "    f.write(str(r['Peptide']) + '\\n')\n",
    "f.close()"
   ]
  },
  {
   "cell_type": "code",
   "execution_count": 223,
   "id": "e6200384",
   "metadata": {},
   "outputs": [],
   "source": [
    "# Now onto the final uid_not_found sequences\n",
    "uid_not_found['ACC_ID'].drop_duplicates().to_csv('./missing_fullseq_MSD_run/uids_not_found.txt', index=None)"
   ]
  },
  {
   "cell_type": "code",
   "execution_count": 224,
   "id": "e977c153",
   "metadata": {},
   "outputs": [],
   "source": [
    "# Note: some of these include peptides that couldn't be found within the full protein \n",
    "# sequences. These will be run as peptides as well.\n",
    "pep_miss_peptides = uid_not_found[uid_not_found['uid_pos'].str.contains('Peptide_Not_Found')]\n",
    "true_uid_not_found = uid_not_found.drop(pep_miss_peptides.index)"
   ]
  },
  {
   "cell_type": "code",
   "execution_count": 225,
   "id": "aad1e7a7",
   "metadata": {},
   "outputs": [],
   "source": [
    "# Format for MSD run\n",
    "f = open('./missing_fullseq_MSD_run/missing_seqs_msd_run.fasta', 'a')\n",
    "\n",
    "for h,r in pep_miss_peptides.iterrows():\n",
    "    f.write('>' + r['uid_pos'] + '|' + str(r['Spot Index']) + '\\n')\n",
    "    f.write(str(r['Peptide']) + '\\n')\n",
    "f.close()"
   ]
  },
  {
   "cell_type": "code",
   "execution_count": 226,
   "id": "5b39681e",
   "metadata": {},
   "outputs": [],
   "source": [
    "true_uid_not_found['ACC_ID'].drop_duplicates().to_csv('./missing_fullseq_MSD_run/uids_not_found.txt', index=None)"
   ]
  },
  {
   "cell_type": "code",
   "execution_count": 227,
   "id": "8a488afd",
   "metadata": {},
   "outputs": [],
   "source": [
    "# All of the uid_not_found peptides were deleted from the uniprot database\n",
    "# As they are not reflective of true proteins, only the peptide sequence will be run.\n",
    "f = open('./missing_fullseq_MSD_run/missing_seqs_msd_run.fasta', 'a')\n",
    "\n",
    "for h,r in true_uid_not_found.iterrows():\n",
    "    f.write('>' + r['uid_pos'] + '|' + str(r['Spot Index']) + '\\n')\n",
    "    f.write(str(r['Peptide']) + '\\n')\n",
    "f.close()"
   ]
  },
  {
   "cell_type": "code",
   "execution_count": 228,
   "id": "df13de49",
   "metadata": {},
   "outputs": [],
   "source": [
    "# NOW READ IN THE MSD SCORES FOR THE PEPTIDES #\n",
    "#no_fullseq\n",
    "no_fs_msd = pd.read_csv('./missing_fullseq_MSD_run/prediction_results.txt', sep='\\t')\n",
    "no_fs_msd = no_fs_msd[no_fs_msd['Position'].notna()]\n",
    "no_fs_msd = no_fs_msd[no_fs_msd['Position'] == 7]"
   ]
  },
  {
   "cell_type": "code",
   "execution_count": 229,
   "id": "efbdd60b",
   "metadata": {},
   "outputs": [],
   "source": [
    "no_fs_msd['uid_pos'] = no_fs_msd['ID'].str.split('|', expand=True)[0]"
   ]
  },
  {
   "cell_type": "code",
   "execution_count": 230,
   "id": "dc261e4c",
   "metadata": {},
   "outputs": [],
   "source": [
    "msd_scored_peptides = pd.merge(no_fs_msd, no_fullseq, on='uid_pos', indicator=True)"
   ]
  },
  {
   "cell_type": "code",
   "execution_count": 241,
   "id": "13a5cde1",
   "metadata": {},
   "outputs": [],
   "source": [
    "msd_scored_peptides = msd_scored_peptides.set_index('uid_pos', drop=True)"
   ]
  },
  {
   "cell_type": "code",
   "execution_count": 242,
   "id": "d0bf621f",
   "metadata": {},
   "outputs": [],
   "source": [
    "final_peptide_set = pd.concat([full, msd_scored_peptides])"
   ]
  },
  {
   "cell_type": "code",
   "execution_count": 245,
   "id": "ff0716cc",
   "metadata": {},
   "outputs": [],
   "source": [
    "final_peptide_set = final_peptide_set.reset_index(drop=False)"
   ]
  },
  {
   "cell_type": "code",
   "execution_count": 246,
   "id": "6c90b753",
   "metadata": {},
   "outputs": [
    {
     "data": {
      "text/plain": [
       "Index(['uid_pos', 'Spot Index', 'Spot Flag', 'Peptide', 'Interactor Protein',\n",
       "       'Measure Flag', 'PTP_HD-PTP_11-07-2008.seam', 'PTP_LAR_12-10-2007.seam',\n",
       "       'PTP_LyP_12-10-2007.seam', 'PTP_MEG-1_12-10-2007.seam',\n",
       "       'PTP_MEG-2_12-10-2007.seam', 'PTP_PTP-PEST_12-10-2007.seam',\n",
       "       'PTP_PTPH1_12-10-2007.seam', 'PTP_rPTP-alpha_12-10-2007.seam',\n",
       "       'PTP_rPTP-beta_12-10-2007.seam', 'PTP_SAP-1_12-10-2007.seam',\n",
       "       'PTP_SHP-1_12-10-2007.seam', 'PTP_SHP-2_12-10-2007.seam',\n",
       "       'PTP_DEP-1_12-10-2007.seam.txt', 'PTP_TC-PTP_12-10-2007.seam',\n",
       "       'PTP_PTP1B_averaged', 'Length', 'ACC_ID', 'Gene_Name',\n",
       "       'Peptide_Location', 'SITE_LOC', 'Fullseq_Length', 'ID', 'Position',\n",
       "       'Residue', 'PTMscores', 'Cutoff=0.5', 'Gene_ID', 'Uniprot_ID',\n",
       "       '_merge'],\n",
       "      dtype='object')"
      ]
     },
     "execution_count": 246,
     "metadata": {},
     "output_type": "execute_result"
    }
   ],
   "source": [
    "final_peptide_set.columns"
   ]
  },
  {
   "cell_type": "code",
   "execution_count": 247,
   "id": "031ecfac",
   "metadata": {},
   "outputs": [],
   "source": [
    "final_peptide_set = final_peptide_set[['uid_pos', 'Peptide', 'PTP_HD-PTP_11-07-2008.seam', 'PTP_LAR_12-10-2007.seam',\n",
    "       'PTP_LyP_12-10-2007.seam', 'PTP_MEG-1_12-10-2007.seam',\n",
    "       'PTP_MEG-2_12-10-2007.seam', 'PTP_PTP-PEST_12-10-2007.seam',\n",
    "       'PTP_PTPH1_12-10-2007.seam', 'PTP_rPTP-alpha_12-10-2007.seam',\n",
    "       'PTP_rPTP-beta_12-10-2007.seam', 'PTP_SAP-1_12-10-2007.seam',\n",
    "       'PTP_SHP-1_12-10-2007.seam', 'PTP_SHP-2_12-10-2007.seam',\n",
    "       'PTP_DEP-1_12-10-2007.seam.txt', 'PTP_TC-PTP_12-10-2007.seam',\n",
    "       'PTP_PTP1B_averaged', 'ACC_ID', 'SITE_LOC', 'Gene_Name', 'PTMscores', 'Spot Index', \n",
    "                   'Spot Flag']]\n",
    "\n",
    "final_peptide_set['PTMscores'] = final_peptide_set['PTMscores'].str[16:].astype(float)"
   ]
  },
  {
   "cell_type": "code",
   "execution_count": 248,
   "id": "0ead4dbd",
   "metadata": {},
   "outputs": [],
   "source": [
    "final_peptide_set = final_peptide_set.rename(columns={'PTMscores':'SECONDARY_ML_SCORE'})"
   ]
  },
  {
   "cell_type": "code",
   "execution_count": 249,
   "id": "72471cca",
   "metadata": {},
   "outputs": [],
   "source": [
    "final_peptide_set.to_csv('./features/palma_2017_experimental_results_and_sec_scores.csv')"
   ]
  },
  {
   "cell_type": "code",
   "execution_count": 256,
   "id": "43abd83b",
   "metadata": {},
   "outputs": [
    {
     "data": {
      "text/html": [
       "<div>\n",
       "<style scoped>\n",
       "    .dataframe tbody tr th:only-of-type {\n",
       "        vertical-align: middle;\n",
       "    }\n",
       "\n",
       "    .dataframe tbody tr th {\n",
       "        vertical-align: top;\n",
       "    }\n",
       "\n",
       "    .dataframe thead th {\n",
       "        text-align: right;\n",
       "    }\n",
       "</style>\n",
       "<table border=\"1\" class=\"dataframe\">\n",
       "  <thead>\n",
       "    <tr style=\"text-align: right;\">\n",
       "      <th></th>\n",
       "      <th>uid_pos</th>\n",
       "      <th>Peptide</th>\n",
       "      <th>PTP_HD-PTP_11-07-2008.seam</th>\n",
       "      <th>PTP_LAR_12-10-2007.seam</th>\n",
       "      <th>PTP_LyP_12-10-2007.seam</th>\n",
       "      <th>PTP_MEG-1_12-10-2007.seam</th>\n",
       "      <th>PTP_MEG-2_12-10-2007.seam</th>\n",
       "      <th>PTP_PTP-PEST_12-10-2007.seam</th>\n",
       "      <th>PTP_PTPH1_12-10-2007.seam</th>\n",
       "      <th>PTP_rPTP-alpha_12-10-2007.seam</th>\n",
       "      <th>...</th>\n",
       "      <th>PTP_SHP-2_12-10-2007.seam</th>\n",
       "      <th>PTP_DEP-1_12-10-2007.seam.txt</th>\n",
       "      <th>PTP_TC-PTP_12-10-2007.seam</th>\n",
       "      <th>PTP_PTP1B_averaged</th>\n",
       "      <th>ACC_ID</th>\n",
       "      <th>SITE_LOC</th>\n",
       "      <th>Gene_Name</th>\n",
       "      <th>SECONDARY_ML_SCORE</th>\n",
       "      <th>Spot Index</th>\n",
       "      <th>Spot Flag</th>\n",
       "    </tr>\n",
       "  </thead>\n",
       "  <tbody>\n",
       "    <tr>\n",
       "      <th>5424</th>\n",
       "      <td>Q53H88_6</td>\n",
       "      <td>AMADPKYADLPGI</td>\n",
       "      <td>1.37</td>\n",
       "      <td>-1.18</td>\n",
       "      <td>-0.277</td>\n",
       "      <td>-0.414</td>\n",
       "      <td>0.147</td>\n",
       "      <td>-0.574</td>\n",
       "      <td>1.01</td>\n",
       "      <td>-0.608</td>\n",
       "      <td>...</td>\n",
       "      <td>0.253</td>\n",
       "      <td>0.14</td>\n",
       "      <td>2.6</td>\n",
       "      <td>1.84</td>\n",
       "      <td>Q53H88</td>\n",
       "      <td>6</td>\n",
       "      <td>None_Listed</td>\n",
       "      <td>0.896</td>\n",
       "      <td>4702</td>\n",
       "      <td>GOOD</td>\n",
       "    </tr>\n",
       "  </tbody>\n",
       "</table>\n",
       "<p>1 rows × 23 columns</p>\n",
       "</div>"
      ],
      "text/plain": [
       "       uid_pos        Peptide  PTP_HD-PTP_11-07-2008.seam  \\\n",
       "5424  Q53H88_6  AMADPKYADLPGI                        1.37   \n",
       "\n",
       "      PTP_LAR_12-10-2007.seam  PTP_LyP_12-10-2007.seam  \\\n",
       "5424                    -1.18                   -0.277   \n",
       "\n",
       "      PTP_MEG-1_12-10-2007.seam  PTP_MEG-2_12-10-2007.seam  \\\n",
       "5424                     -0.414                      0.147   \n",
       "\n",
       "      PTP_PTP-PEST_12-10-2007.seam  PTP_PTPH1_12-10-2007.seam  \\\n",
       "5424                        -0.574                       1.01   \n",
       "\n",
       "      PTP_rPTP-alpha_12-10-2007.seam  ...  PTP_SHP-2_12-10-2007.seam  \\\n",
       "5424                          -0.608  ...                      0.253   \n",
       "\n",
       "      PTP_DEP-1_12-10-2007.seam.txt  PTP_TC-PTP_12-10-2007.seam  \\\n",
       "5424                           0.14                         2.6   \n",
       "\n",
       "      PTP_PTP1B_averaged  ACC_ID  SITE_LOC    Gene_Name SECONDARY_ML_SCORE  \\\n",
       "5424                1.84  Q53H88         6  None_Listed              0.896   \n",
       "\n",
       "     Spot Index Spot Flag  \n",
       "5424       4702      GOOD  \n",
       "\n",
       "[1 rows x 23 columns]"
      ]
     },
     "execution_count": 256,
     "metadata": {},
     "output_type": "execute_result"
    }
   ],
   "source": [
    "final_peptide_set[final_peptide_set['uid_pos'].str.contains('Q53H88_')]"
   ]
  },
  {
   "cell_type": "code",
   "execution_count": null,
   "id": "6f9eae2d",
   "metadata": {},
   "outputs": [],
   "source": []
  }
 ],
 "metadata": {
  "kernelspec": {
   "display_name": "Python 3 (ipykernel)",
   "language": "python",
   "name": "python3"
  },
  "language_info": {
   "codemirror_mode": {
    "name": "ipython",
    "version": 3
   },
   "file_extension": ".py",
   "mimetype": "text/x-python",
   "name": "python",
   "nbconvert_exporter": "python",
   "pygments_lexer": "ipython3",
   "version": "3.11.4"
  }
 },
 "nbformat": 4,
 "nbformat_minor": 5
}

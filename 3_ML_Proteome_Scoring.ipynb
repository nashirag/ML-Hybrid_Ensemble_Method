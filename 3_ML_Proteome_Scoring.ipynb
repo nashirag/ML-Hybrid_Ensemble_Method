{
 "cells": [
  {
   "cell_type": "code",
   "execution_count": null,
   "metadata": {},
   "outputs": [],
   "source": [
    "# import libraries\n",
    "import pandas as pd\n",
    "import numpy as np\n",
    "import seaborn as sns\n",
    "import matplotlib.pyplot as plt\n",
    "import random"
   ]
  },
  {
   "cell_type": "code",
   "execution_count": null,
   "metadata": {},
   "outputs": [],
   "source": [
    "# Import feature set for set8 ml model\n",
    "s8_fset = pd.read_csv('./datasets/feature_data.csv')\n",
    "msight_scores = pd.read_csv('./datasets/MS-full-proteome.csv')\n",
    "ms_test = pd.read_csv('./datasets/MS-test-set.csv')\n",
    "pplus = pd.read_csv('./datasets/methylated_sites_info.csv')"
   ]
  },
  {
   "cell_type": "code",
   "execution_count": null,
   "metadata": {},
   "outputs": [],
   "source": [
    "# Format s8 feature set \n",
    "# Identify site position from MOD_RSD\n",
    "pplus['Site'] = pplus['MOD_RSD'].str[1:-3]\n",
    "pplus['adj_Site'] = pd.to_numeric(pplus['Site'])\n",
    "pplus['combo'] = pplus['ACC_ID'] + '_' + pplus['adj_Site'].astype(str)\n",
    "pplus['ID'] = pplus['ACC_ID'] + '_K' + pplus['SITE_GRP_ID'].astype(str)\n",
    "\n",
    "s8_fset['ID']= s8_fset['ID'].str[:-3]\n",
    "s8_fset = s8_fset.set_index('ID')\n",
    "\n",
    "s8_fset = s8_fset.drop(['Gs(U)_NO'], axis=1)"
   ]
  },
  {
   "cell_type": "code",
   "execution_count": null,
   "metadata": {},
   "outputs": [],
   "source": [
    "# Pull ms test set from s8 feature set\n",
    "ms_test['ID'] = ms_test['uniprot_id'] + '_K' + ms_test['position'].astype(str)\n",
    "ms = ms_test[['ID', 'ground_truth']]\n",
    "ms = ms.set_index('ID')"
   ]
  },
  {
   "cell_type": "code",
   "execution_count": null,
   "metadata": {},
   "outputs": [],
   "source": [
    "# Merge to generate test set\n",
    "holdout_set = pd.merge(ms, s8_fset, left_index=True, right_index=True, how='inner')\n",
    "#holdout_set.to_csv('./holdout_set.csv')"
   ]
  },
  {
   "cell_type": "code",
   "execution_count": null,
   "metadata": {},
   "outputs": [],
   "source": [
    "s8_fset"
   ]
  },
  {
   "cell_type": "code",
   "execution_count": null,
   "metadata": {},
   "outputs": [],
   "source": [
    "# CREATE TRAINING AND TEST SETS FOR S8 ML MODEL\n",
    "from sklearn.model_selection import train_test_split\n",
    "# create x and y sets for set8 ml test data\n",
    "s8_test_y = holdout_set['METHYLATED']\n",
    "s8_test_x = holdout_set.drop(['METHYLATED'], axis=1)\n",
    "# create x and y sets for set8 ml training data with test set removed\n",
    "drop_rows = holdout_set.index\n",
    "s8_fset.drop(drop_rows, inplace=True)\n",
    "s8_train_y = s8_fset['METHYLATED']\n",
    "s8_train_x = s8_fset.drop(['METHYLATED'], axis=1)\n",
    "# split training sets in two for 1) training of set8 model then 2) training of combo model\n",
    "s8_mod_train_x, s8_combo_train_x, s8_mod_train_y, s8_combo_train_y = train_test_split(\n",
    "    s8_train_x, s8_train_y, test_size=0.5, random_state=8, stratify=s8_train_y)"
   ]
  },
  {
   "cell_type": "code",
   "execution_count": null,
   "metadata": {},
   "outputs": [],
   "source": [
    "# count training and test set sizes for 1) and 2)\n",
    "from collections import Counter\n",
    "print('Without Hold-Out Set:', Counter(s8_train_y))\n",
    "print('S8 Model Training:', Counter(s8_mod_train_y))\n",
    "print('Combo Model Training:', Counter(s8_combo_train_y))"
   ]
  },
  {
   "cell_type": "code",
   "execution_count": null,
   "metadata": {},
   "outputs": [],
   "source": [
    "# TEST S8 MODEL on S8 Model Training data\n",
    "# Linear Discriminant Analysis produced the best results in testing - use it here\n",
    "from sklearn.discriminant_analysis import LinearDiscriminantAnalysis\n",
    "from sklearn.model_selection import RepeatedStratifiedKFold, cross_val_score\n",
    "from imblearn.over_sampling import RandomOverSampler\n",
    "from imblearn.pipeline import Pipeline\n",
    "from numpy import mean\n",
    "from sklearn.metrics import recall_score\n",
    "from sklearn.metrics import make_scorer\n",
    "\n",
    "discrim = LinearDiscriminantAnalysis(tol = 0.007070707070707071, store_covariance=False, solver='svd')\n",
    "over = RandomOverSampler(sampling_strategy=0.35)\n",
    "steps = [('sampling', over), ('model', discrim)]\n",
    "pipeline = Pipeline(steps=steps)\n",
    "cv = RepeatedStratifiedKFold(n_splits=10, n_repeats=3)\n",
    "scores = cross_val_score(pipeline, s8_mod_train_x, s8_mod_train_y, cv=cv, scoring=\"precision\")\n",
    "print(\"score:\", mean(scores))"
   ]
  },
  {
   "cell_type": "code",
   "execution_count": null,
   "metadata": {},
   "outputs": [],
   "source": [
    "# TRAIN S8 MODEL\n",
    "# fit model to training data\n",
    "step2 = [('sampling', over)]\n",
    "pip2 = Pipeline(steps=step2)\n",
    "s8_X, s8_y = pip2.fit_resample(s8_mod_train_x, s8_mod_train_y)\n",
    "model = discrim.fit(s8_X, s8_y)"
   ]
  },
  {
   "cell_type": "code",
   "execution_count": null,
   "metadata": {},
   "outputs": [],
   "source": [
    "# PREDICT SCORES FOR COMBO TRAINING SET USING S8 MODEL FOR INSERTION INTO COMBO MODEL\n",
    "s8_scores = model.predict_proba(s8_combo_train_x)\n",
    "combo_train_x = pd.DataFrame(s8_scores)\n",
    "combo_train_x = combo_train_x.rename(columns={1:'s8_proba_methylated'})\n",
    "combo_train_x = combo_train_x.drop([0], axis=1)\n",
    "combo_train_x = combo_train_x.set_index(s8_combo_train_x.index)\n",
    "combo_train_x['methylated'] = s8_combo_train_y"
   ]
  },
  {
   "cell_type": "code",
   "execution_count": null,
   "metadata": {},
   "outputs": [],
   "source": [
    "# ADD MS SCORES TO COMBO TRAINING SET\n",
    "# formatting\n",
    "ms_combo_train_x = pd.DataFrame(msight_scores['Score'])\n",
    "msight_scores['ID'] = msight_scores['UniProtID'] + '_K' + msight_scores['Site'].astype(str)\n",
    "ms_combo_train_x = ms_combo_train_x.set_index(msight_scores['ID'])\n",
    "ms_combo_train_x = ms_combo_train_x.rename(columns={'Score':'ms_proba_methylated'})\n",
    "\n",
    "# add to s8 data\n",
    "X_combo_train = pd.merge(combo_train_x, ms_combo_train_x, left_index=True, right_index=True, how='inner')\n",
    "\n",
    "# isolate methylated data for y combo train\n",
    "y_combo_train = X_combo_train['methylated']\n",
    "X_combo_train = X_combo_train.drop(['methylated'], axis=1)"
   ]
  },
  {
   "cell_type": "code",
   "execution_count": null,
   "metadata": {},
   "outputs": [],
   "source": [
    "# quick count of classes in combo train\n",
    "print('Combination Model Training Set:', Counter(y_combo_train))"
   ]
  },
  {
   "cell_type": "code",
   "execution_count": null,
   "metadata": {},
   "outputs": [],
   "source": [
    "holdout_set"
   ]
  },
  {
   "cell_type": "code",
   "execution_count": null,
   "metadata": {},
   "outputs": [],
   "source": [
    "# CREATE COMBO TEST SET\n",
    "# y value is experimental methylation data\n",
    "y_combo_test = holdout_set['METHYLATED']\n",
    "# generate s8 scores for combo x data\n",
    "X_s8_combo_test = holdout_set.drop(['ground_truth', 'METHYLATED'], axis=1)\n",
    "s8_t_scores = model.predict_proba(X_s8_combo_test)\n",
    "x_combo_test = pd.DataFrame(s8_t_scores)\n",
    "x_combo_test = x_combo_test.rename(columns={1:'s8_proba_methylated'})\n",
    "x_combo_test = x_combo_test.drop([0], axis=1)\n",
    "x_combo_test = x_combo_test.set_index(X_s8_combo_test.index)\n",
    "x_combo_test['methylated'] = y_combo_test"
   ]
  },
  {
   "cell_type": "code",
   "execution_count": null,
   "metadata": {},
   "outputs": [],
   "source": [
    "# pull out ms scores from ms data for combo test x data\n",
    "X_combo_test = pd.merge(x_combo_test, ms_combo_train_x, left_index=True, right_index=True, how='inner')\n",
    "\n",
    "# isolate methylated data for y combo train\n",
    "y_combo_test = X_combo_test['methylated']\n",
    "X_combo_test = X_combo_test.drop(['methylated'], axis=1)"
   ]
  },
  {
   "cell_type": "code",
   "execution_count": null,
   "metadata": {},
   "outputs": [],
   "source": [
    "# FIT AND TEST MODELS : train with X_combo_train and y_combo_train,\n",
    "# test with X_combo_test and y_combo_test"
   ]
  },
  {
   "cell_type": "code",
   "execution_count": null,
   "metadata": {},
   "outputs": [],
   "source": [
    "# STACKING ~ LOGISTIC REGRESSION + SVMSMOTE\n",
    "from sklearn.linear_model import LogisticRegression\n",
    "from imblearn.over_sampling import SVMSMOTE\n",
    "from imblearn.pipeline import Pipeline\n",
    "from sklearn.metrics import f1_score, precision_score\n",
    "\n",
    "logit = LogisticRegression(max_iter=100)\n",
    "smote = SVMSMOTE()\n",
    "steps = [('sampling', smote), ('clf', logit)]\n",
    "pipeline = Pipeline(steps=steps)\n",
    "lmodel = pipeline.fit(X_combo_train, y_combo_train)\n",
    "logit_proba = lmodel.predict_proba(X_combo_test)\n",
    "# convert to 1 or 0 values\n",
    "y_proba = logit_proba[:, [1]] \n",
    "y_pred = np.where((y_proba>=0.855), 1, y_proba)\n",
    "y_pred = np.where((y_pred<0.855), 0, y_pred)\n",
    "print('logistic regression + SVMSMOTE precision', precision_score(y_combo_test, y_pred))"
   ]
  },
  {
   "cell_type": "code",
   "execution_count": null,
   "metadata": {},
   "outputs": [],
   "source": [
    "# CARRY ON WITH MEAN PROBABILITY VOTING + LOGISTIC REGRESSION WITH SVMSMOTE"
   ]
  },
  {
   "cell_type": "code",
   "execution_count": null,
   "metadata": {},
   "outputs": [],
   "source": [
    "# Import experimental featureset, as created by Feature_Set_Generation.ipynb \n",
    "exp = pd.read_csv('./datasets/surface_exposed_lysine_proteome.csv', index_col=0)"
   ]
  },
  {
   "cell_type": "code",
   "execution_count": null,
   "metadata": {},
   "outputs": [],
   "source": [
    "# Format feature set and exp set before run\n",
    "# Drop Gs(U) from features since it's not in our example set\n",
    "features = s8_fset\n",
    "methylated = features['METHYLATED']\n",
    "features = features.drop(['METHYLATED'], axis=1)\n",
    "\n",
    "seqs = exp['sequence']\n",
    "exp = exp.drop(['sequence'], axis=1)\n",
    "\n",
    "# Reorder example columns to resemble training data\n",
    "exp = exp[features.columns]"
   ]
  },
  {
   "cell_type": "code",
   "execution_count": null,
   "metadata": {},
   "outputs": [],
   "source": [
    "# Voting: Generate SET8ML Scoring \n",
    "# fit ML model to data\n",
    "from collections import Counter\n",
    "step2 = [('sampling', over)]\n",
    "pip2 = Pipeline(steps=step2)\n",
    "X, y = pip2.fit_resample(features, methylated)\n",
    "model = discrim.fit(X, y)\n",
    "print(Counter(y))\n",
    "print(Counter(methylated))"
   ]
  },
  {
   "cell_type": "code",
   "execution_count": null,
   "metadata": {},
   "outputs": [],
   "source": [
    "# format ms data for merging\n",
    "msight_scores['ID'] = msight_scores['UniProtID'] + '_' + msight_scores['Site'].astype(str)\n",
    "msight_scores.index = msight_scores['combo']\n",
    "ms_exp = pd.DataFrame(msight_scores['Score'])"
   ]
  },
  {
   "cell_type": "code",
   "execution_count": null,
   "metadata": {},
   "outputs": [],
   "source": [
    "# predict with s8 model\n",
    "s8_temp = model.predict_proba(exp)\n",
    "s8_exp = pd.DataFrame(s8_temp)\n",
    "s8_exp = s8_exp.rename(columns={1:'s8_proba_methylated'})\n",
    "s8_exp = s8_exp.drop([0], axis=1)\n",
    "s8_exp = s8_exp.set_index(s8_exp.index)\n",
    "s8_exp.index = exp.index"
   ]
  },
  {
   "cell_type": "code",
   "execution_count": null,
   "metadata": {},
   "outputs": [],
   "source": [
    "# merge model scores\n",
    "exp_comb = pd.merge(ms_exp, s8_exp, left_index=True, right_index=True, how='inner')"
   ]
  },
  {
   "cell_type": "code",
   "execution_count": null,
   "metadata": {},
   "outputs": [],
   "source": [
    "# Stacking: Generate SET8ML Scoring\n",
    "# apply model to methylsight + SET8 ML scores\n",
    "X = X_combo_train.append(X_combo_test)\n",
    "y = y_combo_train.append(y_combo_test)\n",
    "lmodel = pipeline.fit(X, y)\n",
    "\n",
    "# make x experimental data resemble features\n",
    "exp_comb = exp_comb[['s8_proba_methylated', 'Score']]\n",
    "exp_comb = exp_comb.rename({'Score':'ms_proba_methylated'},axis=1)"
   ]
  },
  {
   "cell_type": "code",
   "execution_count": null,
   "metadata": {},
   "outputs": [],
   "source": [
    "exp_comb"
   ]
  },
  {
   "cell_type": "code",
   "execution_count": null,
   "metadata": {},
   "outputs": [],
   "source": [
    "# get resulting probability scores and classification\n",
    "stacked_classify = lmodel.predict(exp_comb)\n",
    "stacked_proba = lmodel.predict_proba(exp_comb)"
   ]
  },
  {
   "cell_type": "code",
   "execution_count": null,
   "metadata": {},
   "outputs": [],
   "source": [
    "# format and export\n",
    "stacked_out = pd.DataFrame(stacked_proba, columns=['proba_not_methylated', 'proba_methylated'])"
   ]
  },
  {
   "cell_type": "code",
   "execution_count": null,
   "metadata": {},
   "outputs": [],
   "source": [
    "stacked_out.index = exp_comb.index"
   ]
  },
  {
   "cell_type": "code",
   "execution_count": null,
   "metadata": {},
   "outputs": [],
   "source": [
    "stacked_out.loc[stacked_out['proba_methylated'] >= 0.82, 'pred_methylated'] = 1\n",
    "stacked_out.loc[stacked_out['proba_methylated'] < 0.82, 'pred_methylated'] = 0"
   ]
  },
  {
   "cell_type": "code",
   "execution_count": null,
   "metadata": {},
   "outputs": [],
   "source": [
    "stacked_out = pd.merge(stacked_out, seqs, left_index=True, right_index=True, how='inner')\n",
    "stacked_out = stacked_out.drop_duplicates()"
   ]
  },
  {
   "cell_type": "code",
   "execution_count": null,
   "metadata": {},
   "outputs": [],
   "source": [
    "stacked_out = stacked_out.reset_index()\n",
    "stacked_out[['uniprot_id','position']] = stacked_out['index'].str.split('_', 1, expand=True)\n",
    "stacked_out = stacked_out.drop(['index'], axis=1)"
   ]
  },
  {
   "cell_type": "code",
   "execution_count": null,
   "metadata": {},
   "outputs": [],
   "source": [
    "stacked_out = stacked_out[['uniprot_id', 'position', 'sequence', 'proba_methylated', 'pred_methylated']]\n",
    "stacked_out = stacked_out.sort_values(by=['proba_methylated'], ascending=False)\n",
    "stacked_out = stacked_out.reset_index(drop=True)"
   ]
  },
  {
   "cell_type": "code",
   "execution_count": null,
   "metadata": {},
   "outputs": [],
   "source": [
    "stacked_out.to_csv('./ML-Hybrid_Ensemble_Results_SET8_v_Proteome.csv', sep='\\t')"
   ]
  },
  {
   "cell_type": "code",
   "execution_count": null,
   "metadata": {},
   "outputs": [],
   "source": []
  }
 ],
 "metadata": {
  "kernelspec": {
   "display_name": "Python 3 (ipykernel)",
   "language": "python",
   "name": "python3"
  },
  "language_info": {
   "codemirror_mode": {
    "name": "ipython",
    "version": 3
   },
   "file_extension": ".py",
   "mimetype": "text/x-python",
   "name": "python",
   "nbconvert_exporter": "python",
   "pygments_lexer": "ipython3",
   "version": "3.11.4"
  }
 },
 "nbformat": 4,
 "nbformat_minor": 4
}

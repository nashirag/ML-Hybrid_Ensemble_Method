{
 "cells": [
  {
   "cell_type": "code",
   "execution_count": 1,
   "id": "b150611e",
   "metadata": {},
   "outputs": [],
   "source": [
    "import pandas as pd\n",
    "import numpy as np\n",
    "from rdkit import Chem\n",
    "from rdkit.Chem import MACCSkeys\n",
    "from rdkit.Chem import rdmolfiles\n",
    "import itertools"
   ]
  },
  {
   "cell_type": "code",
   "execution_count": 2,
   "id": "02f8dcc0",
   "metadata": {},
   "outputs": [],
   "source": [
    "# Import sequences for feature set\n",
    "seqs = pd.read_csv('./datasets/methylated_sites_info.csv', index_col=0)"
   ]
  },
  {
   "cell_type": "code",
   "execution_count": 3,
   "id": "24c3f8fb",
   "metadata": {},
   "outputs": [],
   "source": [
    "# Prepare sequences for feature generation\n",
    "seqs['ID'] = seqs['ACC_ID'] + '_' + seqs['MOD_RSD']\n",
    "sequences = seqs[['ID', 'SITE_+/-7_AA', 'METHYLATED']]\n",
    "sequences = sequences.set_index('ID')"
   ]
  },
  {
   "cell_type": "code",
   "execution_count": 4,
   "id": "de76fe40",
   "metadata": {},
   "outputs": [],
   "source": [
    "# Import ProtDCal dataframe with values for amino acids\n",
    "protdcal = pd.read_csv('./datasets/protdcal_features.csv', index_col=0)"
   ]
  },
  {
   "cell_type": "code",
   "execution_count": 5,
   "id": "4c29f40b",
   "metadata": {},
   "outputs": [],
   "source": [
    "# Create a method we can call to make our feature set for the set8 model\n",
    "def FeatureGen (sequence, pdset):\n",
    "    # FIRST: GENERATE PROTDCAL VALUES\n",
    "    slist = list(sequence)   # first split sequence up into list\n",
    "    # Go through sequence to get protdcal value\n",
    "    pd = []\n",
    "    for i in slist:\n",
    "        pd.append(protdcal.loc[i].tolist())\n",
    "    values = list(map(lambda *x: sum(x), *pd))   # add up values \n",
    "    headers =  protdcal.columns.tolist()   # include headers\n",
    "    \n",
    "    \n",
    "    # SECOND: GENERATE ONE-HOT ENCODING\n",
    "    aa = ['K', 'R', 'H', 'A', 'I', 'L', 'M', 'V', 'F', 'W', 'Y',\n",
    "          'N', 'C', 'Q', 'S', 'T', 'D', 'E', 'G', 'P']   # possible amino acids\n",
    "    # Make headers and one-hot encoding for each letter\n",
    "    for i in aa:\n",
    "        j = 0\n",
    "        while j < len(sequence):\n",
    "            headers.append('ONE-HOT_' + str(j) + '-' + i)  # make header\n",
    "            if sequence[j] == i:\n",
    "                values.append(1)\n",
    "            else:\n",
    "                values.append(0)\n",
    "            j+=1\n",
    "    \n",
    "    \n",
    "    # THIRD: GENERATE MACCS KEYS\n",
    "    # Generate maccs keys\n",
    "    mol = (rdmolfiles.MolFromFASTA(sequence))\n",
    "    fp = (MACCSkeys.GenMACCSKeys(mol))\n",
    "    maccs = fp.ToBitString()\n",
    "    binary = list(maccs)   # split up into list\n",
    "    values.extend(binary)   # add list onto resulting values\n",
    "    # Generate headers for maccs keys\n",
    "    mt = list(itertools.chain(range(len(binary))))\n",
    "    mt = [str(s) + '_maccs' for s in mt]\n",
    "    headers.extend(mt)   # append header values\n",
    "    \n",
    "    return values, headers"
   ]
  },
  {
   "cell_type": "code",
   "execution_count": 6,
   "id": "100662af",
   "metadata": {},
   "outputs": [],
   "source": [
    "# Putting things together!\n",
    "def RunFeats (sequences, protdcal):\n",
    "    # First generate features for our data\n",
    "    \n",
    "    print('FEATURE GENERATION HAS COMMENCED !')\n",
    "    \n",
    "    # Create df for results to go into\n",
    "    v, h = FeatureGen(sequences.values[0][0], protdcal)\n",
    "    features = pd.DataFrame(columns=h)\n",
    "    features.loc[len(features)] = v\n",
    "    \n",
    "    i = 1\n",
    "\n",
    "    # Go through rest of sequences to generate feature set\n",
    "    while i < len(sequences):\n",
    "        ts = sequences.values[i][0]\n",
    "        value, header = FeatureGen(ts, protdcal)\n",
    "        features.loc[len(features)] = value\n",
    "        i+=1\n",
    "        if i % 500 == 0:\n",
    "            print('FEATURE GENERATION:', i, 'of', len(sequences), 'complete')\n",
    "\n",
    "    # Make the index the same as our initial dataframe\n",
    "    features = features.set_index(sequences.index)\n",
    "\n",
    "    # Isolate the methylated condition from the sequences as our y value \n",
    "    y = sequences['METHYLATED']\n",
    "    \n",
    "    return features, y"
   ]
  },
  {
   "cell_type": "code",
   "execution_count": 7,
   "id": "bb061c24",
   "metadata": {},
   "outputs": [
    {
     "name": "stdout",
     "output_type": "stream",
     "text": [
      "FEATURE GENERATION HAS COMMENCED !\n",
      "FEATURE GENERATION: 500 of 4593 complete\n",
      "FEATURE GENERATION: 1000 of 4593 complete\n",
      "FEATURE GENERATION: 1500 of 4593 complete\n",
      "FEATURE GENERATION: 2000 of 4593 complete\n",
      "FEATURE GENERATION: 2500 of 4593 complete\n",
      "FEATURE GENERATION: 3000 of 4593 complete\n",
      "FEATURE GENERATION: 3500 of 4593 complete\n",
      "FEATURE GENERATION: 4000 of 4593 complete\n",
      "FEATURE GENERATION: 4500 of 4593 complete\n"
     ]
    }
   ],
   "source": [
    "s8_train_x, s8_train_y = RunFeats(sequences, protdcal) "
   ]
  },
  {
   "cell_type": "code",
   "execution_count": 8,
   "id": "f4f75d24",
   "metadata": {},
   "outputs": [],
   "source": [
    "# Save feature data (x values) and labels (y values)\n",
    "s8_train_x['METHYLATED'] = s8_train_y\n",
    "s8_train_x.to_csv('./feature_data.csv')"
   ]
  }
 ],
 "metadata": {
  "kernelspec": {
   "display_name": "Python 3 (ipykernel)",
   "language": "python",
   "name": "python3"
  },
  "language_info": {
   "codemirror_mode": {
    "name": "ipython",
    "version": 3
   },
   "file_extension": ".py",
   "mimetype": "text/x-python",
   "name": "python",
   "nbconvert_exporter": "python",
   "pygments_lexer": "ipython3",
   "version": "3.11.4"
  }
 },
 "nbformat": 4,
 "nbformat_minor": 5
}
